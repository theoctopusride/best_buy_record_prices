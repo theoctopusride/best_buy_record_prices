{
 "cells": [
  {
   "cell_type": "code",
   "execution_count": 234,
   "metadata": {},
   "outputs": [],
   "source": [
    "from bs4 import BeautifulSoup\n",
    "import requests\n",
    "import unidecode\n",
    "import math\n",
    "import csv\n",
    "import datetime\n",
    "import html.parser"
   ]
  },
  {
   "cell_type": "code",
   "execution_count": 233,
   "metadata": {},
   "outputs": [],
   "source": [
    "def main():\n",
    "    releases = {}\n",
    "    sold_out_releases = {}\n",
    "    headers = {'User-Agent': 'Mozilla/5.0 (Windows NT 10.0; Win64; x64; rv:68.0)'}\n",
    "    #main vinyl page link split into two so that page numbers can be added in the middle:\n",
    "    bb1 = \"https://www.bestbuy.com/site/music/vinyl-records/pcmcat197800050048.c?cp=\"\n",
    "    bb2 = \"&id=pcmcat197800050048\"\n",
    "    sorts = create_sorts()\n",
    "    #gather total number of vinyl records at best buy website:\n",
    "    max_releases, max_pages = num_items_and_pages_per_filter(bb1, bb2, headers)\n",
    "    #first run through on main vinyl page\n",
    "    count = 100\n",
    "    releases_first_run, sold_out_releases_first_run = run_main_vinyl_page(bb1, bb2, headers, count, releases, sold_out_releases, sorts)\n",
    "    final_releases, final_sold_out_releases = keep_going(releases_first_run, sold_out_releases_first_run, max_releases, headers, bb1, bb2)\n",
    "    create_csvs(final_releases, final_sold_out_releases)"
   ]
  },
  {
   "cell_type": "code",
   "execution_count": 235,
   "metadata": {},
   "outputs": [],
   "source": [
    "def create_sorts():\n",
    "    sorts = []\n",
    "    sorts.append(\"&sp=%2Bcurrentprice%20skuidsaas\")\n",
    "    sorts.append(\"&sp=-currentprice%20skuidsaas\")\n",
    "    sorts.append(\"&sp=customerrating%20numberofreviewssaas\")\n",
    "    sorts.append(\"&sp=-streetdate%20skuidsaas\")\n",
    "    sorts.append(\"&sp=%2Bskushortlabel%20skuidsaas\")\n",
    "    sorts.append(\"&sp=-skushortlabel%20skuidsaas\")\n",
    "    return sorts"
   ]
  },
  {
   "cell_type": "code",
   "execution_count": 236,
   "metadata": {},
   "outputs": [],
   "source": [
    "def run_main_vinyl_page(bb1, bb2, headers, count, releases, sold_out_releases, sorts):\n",
    "    releases_1, sold_out_releases_1 = check_bb_page(bb1, bb2, headers, count, releases, sold_out_releases)\n",
    "    releases_2, sold_out_releases_2 = check_bb_page(bb1, bb2 + sorts[0], headers, count, releases_1, sold_out_releases_1)\n",
    "    releases_3, sold_out_releases_3 = check_bb_page(bb1, bb2 + sorts[1], headers, count, releases_2, sold_out_releases_2)\n",
    "    releases_4, sold_out_releases_4 = check_bb_page(bb1, bb2 + sorts[2], headers, count, releases_3, sold_out_releases_3)\n",
    "    releases_5, sold_out_releases_5 = check_bb_page(bb1, bb2 + sorts[3], headers, count, releases_4, sold_out_releases_4)\n",
    "    releases_6, sold_out_releases_6 = check_bb_page(bb1, bb2 + sorts[4], headers, count, releases_5, sold_out_releases_5)\n",
    "    releases_7, sold_out_releases_7 = check_bb_page(bb1, bb2 + sorts[5], headers, count, releases_6, sold_out_releases_6)\n",
    "    return releases_7, sold_out_releases_7\n",
    "    "
   ]
  },
  {
   "cell_type": "code",
   "execution_count": 237,
   "metadata": {},
   "outputs": [],
   "source": [
    "#num refers to filter in left column of vinyl home page on bb website (up to 51, but no 42!!)\n",
    "#the correct link for the filtered page will be returned\n",
    "def bb_number_of_filters_by_page(headers, bb1, bb2):\n",
    "    bb_vinyl_page = bb1 + \"1\" +bb2\n",
    "    page = requests.get(bb_vinyl_page, headers=headers)\n",
    "    soup = BeautifulSoup(page.text, 'html.parser')\n",
    "    num_filter_by = len(soup.find_all(\"a\", class_=\"facet-seo-link\"))\n",
    "    return num_filter_by"
   ]
  },
  {
   "cell_type": "code",
   "execution_count": 238,
   "metadata": {},
   "outputs": [],
   "source": [
    "#num refers to filter in left column of vinyl home page on bb website (up to 51, but no 42!!)\n",
    "#the correct link for the filtered page will be returned\n",
    "def bb_filter_by_page_finder(num_filter_by, headers, bb1, bb2):\n",
    "    bb_vinyl_page = bb1 + \"1\" + bb2\n",
    "    page = requests.get(bb_vinyl_page, headers=headers)\n",
    "    soup = BeautifulSoup(page.text, 'html.parser')\n",
    "    filter_by = soup.find_all(\"a\", class_=\"facet-seo-link\")\n",
    "    filter_by_item = html.unescape(str(filter_by[num]))\n",
    "    filter_by_item_sub = filter_by_item[filter_by_item.find('href=\"')+6:]\n",
    "    filter_by_item_link = filter_by_item_sub[:filter_by_item_sub.find('\"')]\n",
    "    position_for_cp1 = filter_by_item_link.find(\"&id=\")\n",
    "    bb1 = filter_by_item_link[:position_for_cp1]+\"&cp=\"\n",
    "    bb2 = filter_by_item_link[position_for_cp1:]\n",
    "    return bb1, bb2"
   ]
  },
  {
   "cell_type": "code",
   "execution_count": 239,
   "metadata": {},
   "outputs": [],
   "source": [
    "def num_items_and_pages_per_filter(bb1, bb2, headers):\n",
    "    filter_page = bb1 + \"1\" + bb2\n",
    "    page = requests.get(bb_vinyl_page, headers=headers)\n",
    "    soup = BeautifulSoup(page.text, 'html.parser')\n",
    "    soup_text = soup.find_all(\"div\", class_=\"right-side\")\n",
    "    num_items_per_filter = int(soup_text[0].text[:soup_text[0].text.find(\" items\")])\n",
    "    num_pages_per_filter = math.ceil(num_items_per_filter/25)\n",
    "    if num_pages_per_filter > 100:\n",
    "        num_pages_per_filter = 100\n",
    "    return num_items_per_filter, num_pages_per_filter"
   ]
  },
  {
   "cell_type": "code",
   "execution_count": 240,
   "metadata": {},
   "outputs": [],
   "source": [
    "def check_bb_page(bb1, bb2, headers, num_pages, releases_check, sold_out_releases_check):\n",
    "    add_to_releases = releases_check\n",
    "    add_to_sold_out_releases = sold_out_releases_check\n",
    "    for i in range(1,num_pages):\n",
    "        page = requests.get(bb1 + str(i) + bb2, headers=headers)\n",
    "        soup = BeautifulSoup(page.text, 'html.parser')\n",
    "        artist_sku_release_date = soup.find_all('div', class_=\"sku-model\")\n",
    "        title = soup.find_all('div', class_=\"sku-title\")            \n",
    "        price = soup.find_all('div', class_=\"priceView-hero-price priceView-customer-price\")\n",
    "        in_stock = soup.find_all('div', class_=\"fulfillment-add-to-cart-button\")\n",
    "        for num in range(len(price)):\n",
    "            SKU = artist_sku_release_date[num].text[(artist_sku_release_date[num].text.find(\"SKU:\")+4):artist_sku_release_date[num].text.find(\" R\")]\n",
    "            if SKU not in add_to_releases and SKU not in add_to_sold_out_releases:\n",
    "                release_list = []\n",
    "                #artist name:\n",
    "                artist = artist_sku_release_date[num].text[7:artist_sku_release_date[num].text.find(\" SKU\")]\n",
    "                release_list.append(unidecode.unidecode(artist))\n",
    "                #title:\n",
    "                title_of_release = title[num].text\n",
    "                release_list.append(unidecode.unidecode(title_of_release))\n",
    "                #release date:\n",
    "                release_list.append(artist_sku_release_date[num].text[(artist_sku_release_date[num].text.find(\"Release Date:\")+13):])\n",
    "                #price:\n",
    "                release_list.append(float(price[num].text[(price[num].text.find('is $')+4):]))\n",
    "                #type (pre-order, in stock)\n",
    "                if in_stock[num].text == \"Add to Cart\":\n",
    "                    release_list.append(\"In Stock\")\n",
    "                else:\n",
    "                    release_list.append(in_stock[num].text)\n",
    "                if in_stock[num].text == \"Sold Out\" or in_stock[num].text== \"Check Stores\":\n",
    "                    add_to_sold_out_releases[SKU] = release_list\n",
    "                else:\n",
    "                    add_to_releases[SKU] = release_list\n",
    "    return add_to_releases, add_to_sold_out_releases"
   ]
  },
  {
   "cell_type": "code",
   "execution_count": 241,
   "metadata": {},
   "outputs": [],
   "source": [
    "def all_releases_found(max_releases, releases, sold_out_releases):\n",
    "    all_found = False;\n",
    "    total_releases = len(releases) + len(sold_out_releases)\n",
    "    if max_releases == total_releases:\n",
    "        all_found = True\n",
    "    return all_found"
   ]
  },
  {
   "cell_type": "code",
   "execution_count": 242,
   "metadata": {},
   "outputs": [],
   "source": [
    "def create_csvs(final_releases, final_sold_out_releases):\n",
    "    releases_csv = \"releases-\" + str(datetime.date.today()) + \".csv\" \n",
    "    with open(releases_csv, \"w\") as outfile:\n",
    "        writer = csv.writer(outfile)\n",
    "        writer.writerow([\"Artist\", \"Title\", \"Release Date\", \"Price\", \"Status\"])\n",
    "        writer.writerows(final_releases.values())\n",
    "    sold_out_releases_csv = \"sold_out_releases-\" + str(datetime.date.today()) + \".csv\"\n",
    "    with open(sold_out_releases_csv, \"w\") as outfile_2:\n",
    "        writer = csv.writer(outfile_2)\n",
    "        writer.writerow([\"Artist\", \"Title\", \"Release Date\", \"Price\", \"Status\"])\n",
    "        writer.writerows(final_sold_out_releases.values())"
   ]
  },
  {
   "cell_type": "code",
   "execution_count": 245,
   "metadata": {},
   "outputs": [],
   "source": [
    "def keep_going(releases, sold_out_releases, max_releases, headers, bb1, bb2):\n",
    "    current_releases = releases\n",
    "    current_sold_out_releases = sold_out_releases\n",
    "    total_releases = len(current_releases) + len(current_sold_out_releases)\n",
    "    if not total_releases == max_releases:\n",
    "        num_filters = bb_number_of_filters_by_page(headers, bb1, bb2)\n",
    "        for i in range(num_filters):\n",
    "            print(\"filter # = \" + str(i))\n",
    "            bb1_new, bb2_new = bb_filter_by_page_finder(num_filters, headers, bb1, bb2)\n",
    "            items_count, page_count = num_items_and_pages_per_filter(bb1_new, bb2_new, headers)\n",
    "            if page_count <= 100:\n",
    "                current_releases, current_sold_out_releases = check_bb_page(bb1_new, bb2_new, headers, page_count, current_releases, current_sold_out_releases)\n",
    "            else:\n",
    "                current_releases, current_sold_out_releases = run_main_vinyl_page(bb1_new, bb2_new, headers, page_count, current_releases, current_sold_out_releases, sorts)\n",
    "            total_releases = len(current_releases) + len(current_sold_out_releases)\n",
    "            if total_releases == max_releases:\n",
    "                i = range(num_filters)\n",
    "    return current_releases, current_sold_out_releases"
   ]
  },
  {
   "cell_type": "code",
   "execution_count": 246,
   "metadata": {},
   "outputs": [
    {
     "name": "stdout",
     "output_type": "stream",
     "text": [
      "filter # = 0\n"
     ]
    },
    {
     "ename": "NameError",
     "evalue": "name 'num_filter_by' is not defined",
     "output_type": "error",
     "traceback": [
      "\u001b[1;31m---------------------------------------------------------------------------\u001b[0m",
      "\u001b[1;31mNameError\u001b[0m                                 Traceback (most recent call last)",
      "\u001b[1;32m<ipython-input-246-263240bbee7e>\u001b[0m in \u001b[0;36m<module>\u001b[1;34m\u001b[0m\n\u001b[1;32m----> 1\u001b[1;33m \u001b[0mmain\u001b[0m\u001b[1;33m(\u001b[0m\u001b[1;33m)\u001b[0m\u001b[1;33m\u001b[0m\u001b[1;33m\u001b[0m\u001b[0m\n\u001b[0m",
      "\u001b[1;32m<ipython-input-233-7b537c02d1da>\u001b[0m in \u001b[0;36mmain\u001b[1;34m()\u001b[0m\n\u001b[0;32m     12\u001b[0m     \u001b[0mcount\u001b[0m \u001b[1;33m=\u001b[0m \u001b[1;36m100\u001b[0m\u001b[1;33m\u001b[0m\u001b[1;33m\u001b[0m\u001b[0m\n\u001b[0;32m     13\u001b[0m     \u001b[0mreleases_first_run\u001b[0m\u001b[1;33m,\u001b[0m \u001b[0msold_out_releases_first_run\u001b[0m \u001b[1;33m=\u001b[0m \u001b[0mrun_main_vinyl_page\u001b[0m\u001b[1;33m(\u001b[0m\u001b[0mbb1\u001b[0m\u001b[1;33m,\u001b[0m \u001b[0mbb2\u001b[0m\u001b[1;33m,\u001b[0m \u001b[0mheaders\u001b[0m\u001b[1;33m,\u001b[0m \u001b[0mcount\u001b[0m\u001b[1;33m,\u001b[0m \u001b[0mreleases\u001b[0m\u001b[1;33m,\u001b[0m \u001b[0msold_out_releases\u001b[0m\u001b[1;33m,\u001b[0m \u001b[0msorts\u001b[0m\u001b[1;33m)\u001b[0m\u001b[1;33m\u001b[0m\u001b[1;33m\u001b[0m\u001b[0m\n\u001b[1;32m---> 14\u001b[1;33m     \u001b[0mfinal_releases\u001b[0m\u001b[1;33m,\u001b[0m \u001b[0mfinal_sold_out_releases\u001b[0m \u001b[1;33m=\u001b[0m \u001b[0mkeep_going\u001b[0m\u001b[1;33m(\u001b[0m\u001b[0mreleases_first_run\u001b[0m\u001b[1;33m,\u001b[0m \u001b[0msold_out_releases_first_run\u001b[0m\u001b[1;33m,\u001b[0m \u001b[0mmax_releases\u001b[0m\u001b[1;33m,\u001b[0m \u001b[0mheaders\u001b[0m\u001b[1;33m,\u001b[0m \u001b[0mbb1\u001b[0m\u001b[1;33m,\u001b[0m \u001b[0mbb2\u001b[0m\u001b[1;33m)\u001b[0m\u001b[1;33m\u001b[0m\u001b[1;33m\u001b[0m\u001b[0m\n\u001b[0m\u001b[0;32m     15\u001b[0m     \u001b[0mcreate_csvs\u001b[0m\u001b[1;33m(\u001b[0m\u001b[0mfinal_releases\u001b[0m\u001b[1;33m,\u001b[0m \u001b[0mfinal_sold_out_releases\u001b[0m\u001b[1;33m)\u001b[0m\u001b[1;33m\u001b[0m\u001b[1;33m\u001b[0m\u001b[0m\n",
      "\u001b[1;32m<ipython-input-245-07a220108528>\u001b[0m in \u001b[0;36mkeep_going\u001b[1;34m(releases, sold_out_releases, max_releases, headers, bb1, bb2)\u001b[0m\n\u001b[0;32m      7\u001b[0m         \u001b[1;32mfor\u001b[0m \u001b[0mi\u001b[0m \u001b[1;32min\u001b[0m \u001b[0mrange\u001b[0m\u001b[1;33m(\u001b[0m\u001b[0mnum_filters\u001b[0m\u001b[1;33m)\u001b[0m\u001b[1;33m:\u001b[0m\u001b[1;33m\u001b[0m\u001b[1;33m\u001b[0m\u001b[0m\n\u001b[0;32m      8\u001b[0m             \u001b[0mprint\u001b[0m\u001b[1;33m(\u001b[0m\u001b[1;34m\"filter # = \"\u001b[0m \u001b[1;33m+\u001b[0m \u001b[0mstr\u001b[0m\u001b[1;33m(\u001b[0m\u001b[0mi\u001b[0m\u001b[1;33m)\u001b[0m\u001b[1;33m)\u001b[0m\u001b[1;33m\u001b[0m\u001b[1;33m\u001b[0m\u001b[0m\n\u001b[1;32m----> 9\u001b[1;33m             \u001b[0mbb1_new\u001b[0m\u001b[1;33m,\u001b[0m \u001b[0mbb2_new\u001b[0m \u001b[1;33m=\u001b[0m \u001b[0mbb_filter_by_page_finder\u001b[0m\u001b[1;33m(\u001b[0m\u001b[0mnum_filter_by\u001b[0m\u001b[1;33m,\u001b[0m \u001b[0mheaders\u001b[0m\u001b[1;33m,\u001b[0m \u001b[0mbb1\u001b[0m\u001b[1;33m,\u001b[0m \u001b[0mbb2\u001b[0m\u001b[1;33m)\u001b[0m\u001b[1;33m\u001b[0m\u001b[1;33m\u001b[0m\u001b[0m\n\u001b[0m\u001b[0;32m     10\u001b[0m             \u001b[0mitems_count\u001b[0m\u001b[1;33m,\u001b[0m \u001b[0mpage_count\u001b[0m \u001b[1;33m=\u001b[0m \u001b[0mnum_items_and_pages_per_filter\u001b[0m\u001b[1;33m(\u001b[0m\u001b[0mbb1_new\u001b[0m\u001b[1;33m,\u001b[0m \u001b[0mbb2_new\u001b[0m\u001b[1;33m,\u001b[0m \u001b[0mheaders\u001b[0m\u001b[1;33m)\u001b[0m\u001b[1;33m\u001b[0m\u001b[1;33m\u001b[0m\u001b[0m\n\u001b[0;32m     11\u001b[0m             \u001b[1;32mif\u001b[0m \u001b[0mpage_count\u001b[0m \u001b[1;33m<=\u001b[0m \u001b[1;36m100\u001b[0m\u001b[1;33m:\u001b[0m\u001b[1;33m\u001b[0m\u001b[1;33m\u001b[0m\u001b[0m\n",
      "\u001b[1;31mNameError\u001b[0m: name 'num_filter_by' is not defined"
     ]
    }
   ],
   "source": [
    "main()"
   ]
  },
  {
   "cell_type": "code",
   "execution_count": null,
   "metadata": {},
   "outputs": [],
   "source": []
  },
  {
   "cell_type": "code",
   "execution_count": null,
   "metadata": {},
   "outputs": [],
   "source": []
  },
  {
   "cell_type": "code",
   "execution_count": null,
   "metadata": {},
   "outputs": [],
   "source": []
  },
  {
   "cell_type": "code",
   "execution_count": null,
   "metadata": {},
   "outputs": [],
   "source": []
  },
  {
   "cell_type": "code",
   "execution_count": null,
   "metadata": {},
   "outputs": [],
   "source": []
  },
  {
   "cell_type": "code",
   "execution_count": null,
   "metadata": {},
   "outputs": [],
   "source": []
  },
  {
   "cell_type": "code",
   "execution_count": null,
   "metadata": {},
   "outputs": [],
   "source": []
  },
  {
   "cell_type": "code",
   "execution_count": null,
   "metadata": {},
   "outputs": [],
   "source": []
  },
  {
   "cell_type": "code",
   "execution_count": 196,
   "metadata": {},
   "outputs": [],
   "source": []
  },
  {
   "cell_type": "code",
   "execution_count": 197,
   "metadata": {},
   "outputs": [],
   "source": []
  },
  {
   "cell_type": "code",
   "execution_count": null,
   "metadata": {},
   "outputs": [],
   "source": []
  },
  {
   "cell_type": "code",
   "execution_count": null,
   "metadata": {},
   "outputs": [],
   "source": []
  },
  {
   "cell_type": "code",
   "execution_count": null,
   "metadata": {},
   "outputs": [],
   "source": []
  },
  {
   "cell_type": "code",
   "execution_count": null,
   "metadata": {},
   "outputs": [],
   "source": []
  },
  {
   "cell_type": "code",
   "execution_count": null,
   "metadata": {},
   "outputs": [],
   "source": []
  }
 ],
 "metadata": {
  "kernelspec": {
   "display_name": "Python 3",
   "language": "python",
   "name": "python3"
  },
  "language_info": {
   "codemirror_mode": {
    "name": "ipython",
    "version": 3
   },
   "file_extension": ".py",
   "mimetype": "text/x-python",
   "name": "python",
   "nbconvert_exporter": "python",
   "pygments_lexer": "ipython3",
   "version": "3.6.9"
  }
 },
 "nbformat": 4,
 "nbformat_minor": 2
}
